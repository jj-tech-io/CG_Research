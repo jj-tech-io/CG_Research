{
 "cells": [
  {
   "cell_type": "code",
   "execution_count": null,
   "id": "866d24bd",
   "metadata": {},
   "outputs": [],
   "source": [
    "OldMin = -1\n",
    "OldMax = 1\n",
    "NewMin = 0\n",
    "NewMax = 255\n",
    "\n",
    "OldValue = 0.5\n",
    "\n",
    "\n",
    "OldRange = (OldMax - OldMin)  \n",
    "NewRange = (NewMax - NewMin)  \n",
    "NewValue = int((((OldValue - OldMin) * NewRange) / OldRange) + NewMin)\n",
    "\n",
    "print(NewValue)"
   ]
  },
  {
   "cell_type": "code",
   "execution_count": null,
   "id": "a40f4a36",
   "metadata": {},
   "outputs": [],
   "source": []
  }
 ],
 "metadata": {
  "kernelspec": {
   "display_name": "Python 3.9.13 ('base')",
   "language": "python",
   "name": "python3"
  },
  "language_info": {
   "codemirror_mode": {
    "name": "ipython",
    "version": 3
   },
   "file_extension": ".py",
   "mimetype": "text/x-python",
   "name": "python",
   "nbconvert_exporter": "python",
   "pygments_lexer": "ipython3",
   "version": "3.9.13"
  },
  "vscode": {
   "interpreter": {
    "hash": "6080ae40836fe31eaee7fdbb41e473a2713c7219593f751c19f9a07576f9e38f"
   }
  }
 },
 "nbformat": 4,
 "nbformat_minor": 5
}
