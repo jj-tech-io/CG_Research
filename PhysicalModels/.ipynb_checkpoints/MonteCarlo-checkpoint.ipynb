{
 "cells": [
  {
   "cell_type": "markdown",
   "metadata": {},
   "source": [
    "launch\n",
    "hop\n",
    "drop\n",
    "spin\n",
    "terminate: rnd number-> no: feedback, yes: check remaining photons? yes: feedback, no: output\n",
    "\n",
    "Launch: \n",
    "let position be [0,0,0]\n",
    "launch vector: [ux,uy,uz]\n",
    "\n"
   ]
  },
  {
   "cell_type": "code",
   "execution_count": 5,
   "metadata": {},
   "outputs": [
    {
     "ename": "NameError",
     "evalue": "name 'Images' is not defined",
     "output_type": "error",
     "traceback": [
      "\u001b[0;31m---------------------------------------------------------------------------\u001b[0m",
      "\u001b[0;31mNameError\u001b[0m                                 Traceback (most recent call last)",
      "\u001b[0;32m/var/folders/c0/9r1vps757pgfst2gn8pz_ggr0000gn/T/ipykernel_11636/252806113.py\u001b[0m in \u001b[0;36m<module>\u001b[0;34m\u001b[0m\n\u001b[0;32m----> 1\u001b[0;31m \u001b[0mImages\u001b[0m\u001b[0;34m/\u001b[0m\u001b[0mLaunchTrajectory\u001b[0m\u001b[0;34m.\u001b[0m\u001b[0mjpg\u001b[0m\u001b[0;34m\u001b[0m\u001b[0;34m\u001b[0m\u001b[0m\n\u001b[0m",
      "\u001b[0;31mNameError\u001b[0m: name 'Images' is not defined"
     ]
    }
   ],
   "source": [
    "Images/LaunchTrajectory.jpg"
   ]
  },
  {
   "cell_type": "markdown",
   "metadata": {},
   "source": []
  },
  {
   "cell_type": "code",
   "execution_count": null,
   "metadata": {},
   "outputs": [],
   "source": []
  }
 ],
 "metadata": {
  "kernelspec": {
   "display_name": "Python 3 (ipykernel)",
   "language": "python",
   "name": "python3"
  },
  "language_info": {
   "codemirror_mode": {
    "name": "ipython",
    "version": 3
   },
   "file_extension": ".py",
   "mimetype": "text/x-python",
   "name": "python",
   "nbconvert_exporter": "python",
   "pygments_lexer": "ipython3",
   "version": "3.9.13"
  },
  "vscode": {
   "interpreter": {
    "hash": "6080ae40836fe31eaee7fdbb41e473a2713c7219593f751c19f9a07576f9e38f"
   }
  }
 },
 "nbformat": 4,
 "nbformat_minor": 2
}
