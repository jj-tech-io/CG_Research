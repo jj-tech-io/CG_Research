{
 "cells": [
  {
   "cell_type": "markdown",
   "metadata": {},
   "source": [
    "launch\n",
    "hop\n",
    "drop\n",
    "spin\n",
    "terminate: rnd number-> no: feedback, yes: check remaining photons? yes: feedback, no: output\n",
    "\n",
    "Launch: \n",
    "let position be [0,0,0]\n",
    "launch vector: [ux,uy,uz]\n",
    "\n",
    "\n",
    "![picTitle](Images/LaunchTrajectory.jpg)\n",
    "\n",
    "\n",
    "weight (w) : tracks remaining energy of photon\n",
    "zone around launch position (origin in this case) \n",
    "collect and sum all photons that enter back into the origin/launch zone\n",
    "final sum is the calculated reflectance\n"
   ]
  },
  {
   "cell_type": "markdown",
   "metadata": {},
   "source": [
    "Hop:\n",
    "\n",
    "-Boundary Check\n",
    "-Moving\n",
    "\n",
    "for 2 layer model here: air, upper epidermis, lower dermis\n",
    "\n",
    "1) calculate new position\n",
    "![New Position Calculation](Images/NewPosition.jpg)"
   ]
  },
  {
   "cell_type": "markdown",
   "metadata": {},
   "source": [
    "if uz <0.0 photon has escaped the tissue\n",
    "partial internal reflection? //partial step\n",
    "go back to tissue/air boundary\n",
    "![partial step](Images/PartialStep.jpg)"
   ]
  },
  {
   "cell_type": "markdown",
   "metadata": {},
   "source": [
    "Probability of reflectance at boundary: Ri\n",
    "Fresnel Equation\n",
    "<!-- image.png -->\n",
    "![Fresnel Equation](Images/Fresnel.jpg)\n"
   ]
  },
  {
   "cell_type": "markdown",
   "metadata": {},
   "source": [
    "Weight escaping tissue then = Re = 1 - Ri\n",
    "add Re to Weights Bin\n",
    "index of weight in weight bin : ir\n",
    "dr : radial bin size (depth of cyllindrical photon beam)\n",
    "r : radial position (of the photon)\n",
    "![image](Images/Escape.jpg)\n",
    "\n",
    "Finally, we continue MonteCarlo algorithm with the remaining (internally reflected) weight\n",
    "![image](Images/BounceReflected.jpg)\n"
   ]
  },
  {
   "cell_type": "markdown",
   "metadata": {},
   "source": [
    "Drop:\n",
    "\n",
    "Decrement Weight of photon by the surface albedo\n",
    "(albedo, fraction of light that is reflected by a body or surface)\n",
    "\n",
    "![image](Images/Drop.jpg)"
   ]
  },
  {
   "cell_type": "markdown",
   "metadata": {},
   "source": [
    "Spin:\n",
    "need two angles of scatter, θ (deflection) and ϕ (azimuthal)\n",
    "HG Function\n",
    "θ (deflection) \n",
    "![theta](Images/Scatter.jpg)\n",
    "\n",
    "ϕ (azimuthal)\n",
    "ϕ = 2*pi*RND\n",
    "\n",
    "\n",
    "![update](Images/Update.jpg)\n"
   ]
  },
  {
   "cell_type": "markdown",
   "metadata": {},
   "source": [
    "Terminate:\n",
    "\n",
    "this will not conserve energy as we are removing [the leftover] energy from the simulation (and energy cannot be destroyed). \n",
    "\n",
    "![update](Images/NonCons.jpg)\n",
    "\n",
    "adding energy into photons that are not terminated by the random chance\n",
    "\n",
    "![update](Images/Cons.jpg)"
   ]
  },
  {
   "cell_type": "code",
   "execution_count": null,
   "metadata": {},
   "outputs": [],
   "source": []
  },
  {
   "cell_type": "code",
   "execution_count": null,
   "metadata": {},
   "outputs": [],
   "source": []
  }
 ],
 "metadata": {
  "kernelspec": {
   "display_name": "Python 3 (ipykernel)",
   "language": "python",
   "name": "python3"
  },
  "language_info": {
   "codemirror_mode": {
    "name": "ipython",
    "version": 3
   },
   "file_extension": ".py",
   "mimetype": "text/x-python",
   "name": "python",
   "nbconvert_exporter": "python",
   "pygments_lexer": "ipython3",
   "version": "3.9.13"
  },
  "vscode": {
   "interpreter": {
    "hash": "6080ae40836fe31eaee7fdbb41e473a2713c7219593f751c19f9a07576f9e38f"
   }
  }
 },
 "nbformat": 4,
 "nbformat_minor": 2
}
