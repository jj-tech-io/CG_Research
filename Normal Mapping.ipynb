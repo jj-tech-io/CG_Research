{
 "cells": [
  {
   "cell_type": "code",
   "execution_count": 2,
   "id": "866d24bd",
   "metadata": {},
   "outputs": [
    {
     "name": "stdout",
     "output_type": "stream",
     "text": [
      "191\n"
     ]
    }
   ],
   "source": [
    "OldMin = -1\n",
    "OldMax = 1\n",
    "NewMin = 0\n",
    "NewMax = 255\n",
    "\n",
    "OldValue = 0.5\n",
    "\n",
    "OldRange = (OldMax - OldMin)  \n",
    "NewRange = (NewMax - NewMin)  \n",
    "NewValue = int((((OldValue - OldMin) * NewRange) / OldRange) + NewMin)\n",
    "\n",
    "print(NewValue)"
   ]
  }
 ],
 "metadata": {
  "kernelspec": {
   "display_name": "Python 3 (ipykernel)",
   "language": "python",
   "name": "python3"
  },
  "language_info": {
   "codemirror_mode": {
    "name": "ipython",
    "version": 3
   },
   "file_extension": ".py",
   "mimetype": "text/x-python",
   "name": "python",
   "nbconvert_exporter": "python",
   "pygments_lexer": "ipython3",
   "version": "3.8.8"
  }
 },
 "nbformat": 4,
 "nbformat_minor": 5
}
